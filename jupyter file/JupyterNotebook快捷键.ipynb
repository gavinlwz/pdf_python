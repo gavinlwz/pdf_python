{
 "cells": [
  {
   "cell_type": "markdown",
   "metadata": {},
   "source": [
    "# Jupyter Notebook "
   ]
  },
  {
   "cell_type": "markdown",
   "metadata": {},
   "source": [
    "jupyter notebook有两种模式:\n",
    "1. 命令模式 允许使用程序命令  框是蓝色  \n",
    "2. 编辑模式 允许往单元中写入代码或文本 框是绿色  "
   ]
  },
  {
   "cell_type": "markdown",
   "metadata": {},
   "source": [
    "## 快捷键使用 "
   ]
  },
  {
   "cell_type": "markdown",
   "metadata": {},
   "source": [
    "Enter ： 进入编辑模式  \n",
    "Ctrl + Enter ：运行本单元  \n",
    "Alt + Enter ： 运行本单元，在下面插入新单元  \n",
    "Esc ：退出当前模式  \n",
    "\n",
    "在命令模式下：  \n",
    "Y ： 单元转为代码模式  \n",
    "M ：单元转为MarkDown模式  \n",
    "1 ：MarkDown设定1级标题  \n",
    "2 ：MarkDown设定2级标题  \n",
    "...  \n",
    "6 ：MarkDown设定6级标题  \n",
    "  \n",
    "A ：在上方插入新单元  \n",
    "B ：在下方插入新单元  \n",
    "X ：剪切选中单元  \n",
    "C ：复制选中单元  \n",
    "Shift + V ：粘贴到上方单元  \n",
    "V : 粘贴到下方单元  \n",
    "Z ：回复删除的最后一个单元  \n",
    "D D ：删除选中单元  \n",
    "##### pip 更新：  \n",
    "pip3 install --upgrade pip  \n",
    "##### jupyterNotebook安装：  \n",
    "pip3 install jupyter\n",
    "##### 清华源安装  \n",
    "pip3 install jupyter -i https://pypi.tuna.tsinghua.edu.cn/simple\n",
    "#### Jupyter生成和覆盖配置文件  \n",
    "jupyter notebook --generate-config\n",
    "\n",
    "##### 为当前用户安装内核，在主Python目录中执行以下代码(解决当前运行环境是非系统Python运行)：\n",
    "python -m ipykernel install --user"
   ]
  },
  {
   "cell_type": "markdown",
   "metadata": {},
   "source": [
    "#### 安装问题和numpy库的安装\n",
    "1. 避免虚拟环境安装JupyterNotebook  \n",
    "2. 若系统中存在多个Python，需要找到环境变量中的Python版本：  \n",
    "   如果找不到，从控制面板卸载Python；删除盘符中多余的Python；  \n",
    "   然后重新在指定文件中安装Python  \n",
    "3.  #环境：python3.6  \n",
    "    #更新pip  \n",
    "    python -m pip install -U pip setuptools  \n",
    "    #安装，使用清华源满速安装  \n",
    "    pip install jupyter -i https://pypi.tuna.tsinghua.edu.cn/simple  \n",
    "    #运行  \n",
    "    jupyter notebook \n",
    "4. 使用anacoda集成安装"
   ]
  }
 ],
 "metadata": {
  "kernelspec": {
   "display_name": "Python 3",
   "language": "python",
   "name": "python3"
  },
  "language_info": {
   "codemirror_mode": {
    "name": "ipython",
    "version": 3
   },
   "file_extension": ".py",
   "mimetype": "text/x-python",
   "name": "python",
   "nbconvert_exporter": "python",
   "pygments_lexer": "ipython3",
   "version": "3.9.2"
  }
 },
 "nbformat": 4,
 "nbformat_minor": 4
}
