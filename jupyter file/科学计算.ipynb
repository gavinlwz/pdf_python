{
 "cells": [
  {
   "cell_type": "markdown",
   "id": "236d0a90",
   "metadata": {},
   "source": [
    "ndim 返回int 表示数组维数"
   ]
  },
  {
   "cell_type": "markdown",
   "id": "f467ae9a",
   "metadata": {},
   "source": [
    "shape 返回tuple，表示数组 n行m列的矩阵，形状为（n，m）"
   ]
  },
  {
   "cell_type": "markdown",
   "id": "392d127f",
   "metadata": {},
   "source": [
    "size 返回int 表示元素总数，等于数组形状的乘积"
   ]
  },
  {
   "cell_type": "markdown",
   "id": "2eb1aeec",
   "metadata": {},
   "source": [
    "dtype 返回"
   ]
  },
  {
   "cell_type": "code",
   "execution_count": 1,
   "id": "bd7b45ac",
   "metadata": {
    "scrolled": true
   },
   "outputs": [
    {
     "name": "stdout",
     "output_type": "stream",
     "text": [
      "创建一维数组:\n",
      " [1 2 3 4 5 6]\n"
     ]
    }
   ],
   "source": [
    "import numpy as np #导包\n",
    "import pandas\n",
    "arr1= np.array([1,2,3,4,5,6])\n",
    "print(\"创建一维数组:\\n\",arr1)"
   ]
  },
  {
   "cell_type": "code",
   "execution_count": 4,
   "id": "f7d067ad",
   "metadata": {},
   "outputs": [
    {
     "name": "stdout",
     "output_type": "stream",
     "text": [
      "创建 [[123]\n",
      " [456]\n",
      " [789]]\n",
      "(3, 1)\n",
      "int32\n",
      "3\n",
      "4\n"
     ]
    }
   ],
   "source": [
    "arr2 =np.array([[123],[456],[789]])\n",
    "print(\"创建\",arr2)\n",
    "print(arr2.shape)\n",
    "print(arr2.dtype)\n",
    "print(arr2.size)\n",
    "print(arr2.itemsize)"
   ]
  },
  {
   "cell_type": "markdown",
   "id": "caec4542",
   "metadata": {},
   "source": [
    "##### 生成数组"
   ]
  },
  {
   "cell_type": "code",
   "execution_count": 27,
   "id": "6d74190a",
   "metadata": {},
   "outputs": [
    {
     "name": "stdout",
     "output_type": "stream",
     "text": [
      "生成数组 [0.  0.2 0.4 0.6 0.8]\n"
     ]
    }
   ],
   "source": [
    "print(\"使用arange创建数组\",np.arange(0,1,0.2))#0-1每隔0.2输出一个数"
   ]
  },
  {
   "cell_type": "code",
   "execution_count": 25,
   "id": "2d2fdbdb",
   "metadata": {},
   "outputs": [
    {
     "name": "stdout",
     "output_type": "stream",
     "text": [
      "使用linspace创建数组 [0.  0.2 0.4 0.6 0.8 1. ]\n"
     ]
    }
   ],
   "source": [
    "print(\"使用linspace创建数组\",np.linspace(0,1,6))#0-6之间等比生成6个数"
   ]
  },
  {
   "cell_type": "code",
   "execution_count": 28,
   "id": "a578508c",
   "metadata": {},
   "outputs": [
    {
     "name": "stdout",
     "output_type": "stream",
     "text": [
      "使用logspace生成等比例数组 [  1.           4.64158883  21.5443469  100.        ]\n"
     ]
    }
   ],
   "source": [
    "print(\"使用logspace生成等比例数组\",np.logspace(0,2,4))"
   ]
  },
  {
   "cell_type": "code",
   "execution_count": 33,
   "id": "29957ae3",
   "metadata": {},
   "outputs": [
    {
     "name": "stdout",
     "output_type": "stream",
     "text": [
      "生成元素全是零的数组 [[0. 0.]\n",
      " [0. 0.]\n",
      " [0. 0.]]\n"
     ]
    }
   ],
   "source": [
    "print(\"生成元素全是零的数组\",np.zeros((3,2)))"
   ]
  },
  {
   "cell_type": "code",
   "execution_count": 34,
   "id": "31ae2ff0",
   "metadata": {
    "scrolled": true
   },
   "outputs": [
    {
     "name": "stdout",
     "output_type": "stream",
     "text": [
      "[[1. 0. 0. 0. 0. 0.]\n",
      " [0. 1. 0. 0. 0. 0.]\n",
      " [0. 0. 1. 0. 0. 0.]\n",
      " [0. 0. 0. 1. 0. 0.]\n",
      " [0. 0. 0. 0. 1. 0.]\n",
      " [0. 0. 0. 0. 0. 1.]]\n"
     ]
    }
   ],
   "source": [
    "print(\"生成除了对角线是1，其他全是零的数组\",np.eye(6))"
   ]
  },
  {
   "cell_type": "code",
   "execution_count": 38,
   "id": "0ff37948",
   "metadata": {
    "scrolled": true
   },
   "outputs": [
    {
     "name": "stdout",
     "output_type": "stream",
     "text": [
      "生成除了对角线其他全是零,且自定义对角线元素的数组 [[1 0 0 0 0 0]\n",
      " [0 2 0 0 0 0]\n",
      " [0 0 3 0 0 0]\n",
      " [0 0 0 4 0 0]\n",
      " [0 0 0 0 5 0]\n",
      " [0 0 0 0 0 6]]\n"
     ]
    }
   ],
   "source": [
    "print(\"生成除了对角线其他全是零,且自定义对角线元素的数组\",np.diag([1,2,3,4,5,6]))"
   ]
  },
  {
   "cell_type": "code",
   "execution_count": 13,
   "id": "211033e2",
   "metadata": {},
   "outputs": [
    {
     "name": "stdout",
     "output_type": "stream",
     "text": [
      "使用ones函数生成全是1的矩阵 [[1. 1. 1. 1. 1.]\n",
      " [1. 1. 1. 1. 1.]\n",
      " [1. 1. 1. 1. 1.]\n",
      " [1. 1. 1. 1. 1.]\n",
      " [1. 1. 1. 1. 1.]\n",
      " [1. 1. 1. 1. 1.]]\n"
     ]
    }
   ],
   "source": [
    "print(\"使用ones函数生成全是1的矩阵\",np.ones((6,5)))"
   ]
  },
  {
   "cell_type": "code",
   "execution_count": 12,
   "id": "b9c55ec7",
   "metadata": {},
   "outputs": [
    {
     "name": "stdout",
     "output_type": "stream",
     "text": [
      "随机数组 [[0.36906636 0.22831832 0.26350494 0.0036593  0.78888314]\n",
      " [0.31637563 0.25784912 0.89230934 0.66290642 0.54356129]\n",
      " [0.25393015 0.28427    0.47914263 0.05663003 0.78315587]\n",
      " [0.41012428 0.97344734 0.3898163  0.28384637 0.72902134]\n",
      " [0.90169732 0.49655095 0.59198799 0.79202229 0.78598595]\n",
      " [0.88250657 0.29819645 0.77399128 0.31025282 0.69506219]]\n"
     ]
    }
   ],
   "source": [
    "print(\"随机数组\",np.random.random((6,5)))"
   ]
  },
  {
   "cell_type": "code",
   "execution_count": 14,
   "id": "71415afe",
   "metadata": {},
   "outputs": [
    {
     "name": "stdout",
     "output_type": "stream",
     "text": [
      "生成均匀分布的随机数组 [[0.18884972 0.88900832 0.39429612 0.65896399]\n",
      " [0.15545865 0.83275351 0.09349415 0.8512171 ]\n",
      " [0.67823598 0.61531646 0.05105781 0.33886085]\n",
      " [0.84454771 0.32104201 0.37589658 0.25865447]\n",
      " [0.28214273 0.37515876 0.32206467 0.5975196 ]]\n"
     ]
    }
   ],
   "source": [
    "print(\"生成均匀分布的随机数组\",np.random.rand(5,4))"
   ]
  },
  {
   "cell_type": "code",
   "execution_count": 15,
   "id": "466965a4",
   "metadata": {},
   "outputs": [
    {
     "name": "stdout",
     "output_type": "stream",
     "text": [
      "使用有上下限的随机数组 [[2 0 2 3 4]\n",
      " [4 1 0 0 1]\n",
      " [3 0 0 1 4]\n",
      " [3 2 2 2 1]\n",
      " [0 2 3 4 3]]\n"
     ]
    }
   ],
   "source": [
    "print(\"使用有上下限的随机数组\",np.random.randint(0,5,size=[5,5],dtype=int))"
   ]
  },
  {
   "cell_type": "code",
   "execution_count": 16,
   "id": "b11a957f",
   "metadata": {},
   "outputs": [
    {
     "name": "stdout",
     "output_type": "stream",
     "text": [
      "使用randn生成高斯分布 [[ 1.67827252 -0.38664267  0.20467802 -1.18522159 -0.09345745]\n",
      " [ 0.3067038   0.79795233 -0.84815005 -1.00391499 -0.26078639]\n",
      " [ 0.32749017  1.28051582  0.61726416 -1.72181211 -0.31879934]\n",
      " [ 0.60314036 -0.04924035  1.62692193 -0.20889174 -0.68924322]]\n"
     ]
    }
   ],
   "source": [
    "print(\"使用randn生成高斯分布\",np.random.randn(4,5))"
   ]
  },
  {
   "cell_type": "markdown",
   "id": "17a098b8",
   "metadata": {},
   "source": [
    "### 存储和读取数据\n",
    "savetxt()\n",
    "loadtxt()"
   ]
  },
  {
   "cell_type": "code",
   "execution_count": 23,
   "id": "73bc0fd8",
   "metadata": {},
   "outputs": [
    {
     "name": "stdout",
     "output_type": "stream",
     "text": [
      "[1. 2. 3. 4. 5. 6.]\n"
     ]
    }
   ],
   "source": [
    "txta=np.array([1,2,3,4,5,6])\n",
    "np.savetxt('numpy_out.txt',txta,fmt=\"%d\")\n",
    "txtb=np.loadtxt('numpy_out.txt',delimiter=',',dtype=float)\n",
    "print(txtb)"
   ]
  },
  {
   "cell_type": "code",
   "execution_count": 51,
   "id": "5840b56d",
   "metadata": {},
   "outputs": [
    {
     "name": "stdout",
     "output_type": "stream",
     "text": [
      "[[0.  0.5 1.  1.5]\n",
      " [2.  2.5 3.  3.5]\n",
      " [4.  4.5 5.  5.5]\n",
      " [6.  6.5 7.  7.5]\n",
      " [8.  8.5 9.  9.5]]\n",
      "[1. 2. 3. 4. 5. 6.]\n"
     ]
    }
   ],
   "source": [
    "txtc=np.arange(0,10,0.5).reshape(5,-1)\n",
    "print(textc)\n",
    "np.savetxt('numpy_out2.txt',txtc,fmt=\"%d\",delimiter=',')\n",
    "txtb=np.loadtxt('numpy_out2.txta',delimiter=',')\n",
    "print(txtb)"
   ]
  },
  {
   "cell_type": "code",
   "execution_count": 50,
   "id": "6a63dac1",
   "metadata": {},
   "outputs": [
    {
     "name": "stdout",
     "output_type": "stream",
     "text": [
      "0\n"
     ]
    }
   ],
   "source": [
    "print(np.int8(1024))#-128~127"
   ]
  },
  {
   "cell_type": "markdown",
   "id": "223b342b",
   "metadata": {},
   "source": [
    "## 索引和切片"
   ]
  },
  {
   "cell_type": "code",
   "execution_count": 55,
   "id": "8e633125",
   "metadata": {},
   "outputs": [
    {
     "name": "stdout",
     "output_type": "stream",
     "text": [
      "[0 1 2 3 4 5 6 7]\n",
      "4\n",
      "[2 3 4]\n",
      "[2 3 4 5 6 7]\n",
      "[0 1 2 3 4]\n",
      "7\n",
      "7\n",
      "[  0   1  99 100   4   5   6   7]\n",
      "[  1 100   5]\n"
     ]
    }
   ],
   "source": [
    "arr=np.arange(8)\n",
    "print(arr)\n",
    "print(arr[4])\n",
    "print(arr[2:5])\n",
    "print(arr[2:])\n",
    "print(arr[:5])\n",
    "print(arr[7])\n",
    "print(arr[-1])\n",
    "#修改切片之后的直\n",
    "arr[2:4]=99,100\n",
    "print(arr)\n",
    "#每隔一个元素取一个元素\n",
    "print(arr[1:7:2])"
   ]
  },
  {
   "cell_type": "markdown",
   "id": "c92b967b",
   "metadata": {},
   "source": [
    "### 二维数组与切片 "
   ]
  },
  {
   "cell_type": "code",
   "execution_count": 60,
   "id": "b4172478",
   "metadata": {},
   "outputs": [
    {
     "name": "stdout",
     "output_type": "stream",
     "text": [
      "创建数组:\n",
      " [[ 0  1  2  3  4  5  6  7  8  9]\n",
      " [10 11 12 13 14 15 16 17 18 19]\n",
      " [20 21 22 23 24 25 26 27 28 29]\n",
      " [30 31 32 33 34 35 36 37 38 39]\n",
      " [40 41 42 43 44 45 46 47 48 49]\n",
      " [50 51 52 53 54 55 56 57 58 59]\n",
      " [60 61 62 63 64 65 66 67 68 69]\n",
      " [70 71 72 73 74 75 76 77 78 79]\n",
      " [80 81 82 83 84 85 86 87 88 89]\n",
      " [90 91 92 93 94 95 96 97 98 99]]\n",
      "----------------------------\n",
      "二到八的偶数行 [[20 21 22 23 24 25 26 27 28 29]\n",
      " [40 41 42 43 44 45 46 47 48 49]\n",
      " [60 61 62 63 64 65 66 67 68 69]\n",
      " [80 81 82 83 84 85 86 87 88 89]]\n",
      "-----------------------------\n",
      "取二刀八偶数行中，第六列之后的元素：\n",
      " [[25 26 27 28 29]\n",
      " [45 46 47 48 49]\n",
      " [65 66 67 68 69]\n",
      " [85 86 87 88 89]]\n"
     ]
    }
   ],
   "source": [
    "arr=np.arange(10*10,dtype=int).reshape(10,10)\n",
    "print(\"创建数组:\\n\",arr)\n",
    "print('----------------------------')\n",
    "print(\"二到八的偶数行\",arr[2:9:2,:])\n",
    "print('-----------------------------')\n",
    "print('取二刀八偶数行中，第六列之后的元素：\\n',arr[2:9:2,5:])"
   ]
  },
  {
   "cell_type": "code",
   "execution_count": 63,
   "id": "8bbadf07",
   "metadata": {},
   "outputs": [
    {
     "name": "stdout",
     "output_type": "stream",
     "text": [
      "从后向前，第六列倒序向前一直到底一列：\n",
      " [[25 24 23 22 21 20]\n",
      " [45 44 43 42 41 40]\n",
      " [65 64 63 62 61 60]\n",
      " [85 84 83 82 81 80]]\n"
     ]
    }
   ],
   "source": [
    "print(\"从后向前，第六列倒序向前一直到底一列：\\n\",arr[2:9:2,5::-1])"
   ]
  },
  {
   "cell_type": "markdown",
   "id": "d574a19d",
   "metadata": {},
   "source": [
    "### 按照条件索引\n"
   ]
  },
  {
   "cell_type": "code",
   "execution_count": 74,
   "id": "bc33fa29",
   "metadata": {},
   "outputs": [
    {
     "name": "stdout",
     "output_type": "stream",
     "text": [
      "[[ 0  1  2  3  4  5  6  7  8  9]\n",
      " [10 11 12 13 14 15 16 17 18 19]\n",
      " [20 21 22 23 24 25 26 27 28 29]\n",
      " [30 31 32 33 34 35 36 37 38 39]\n",
      " [40 41 42 43 44 45 46 47 48 49]\n",
      " [50 51 52 53 54 55 56 57 58 59]\n",
      " [60 61 62 63 64 65 66 67 68 69]\n",
      " [70 71 72 73 74 75 76 77 78 79]\n",
      " [80 81 82 83 84 85 86 87 88 89]\n",
      " [90 91 92 93 94 95 96 97 98 99]]\n",
      "-----------------------\n",
      "切片之后的数据：\n",
      " [[55 56 57 58 59]\n",
      " [65 66 67 68 69]\n",
      " [75 76 77 78 79]\n",
      " [85 86 87 88 89]]\n",
      "-----------------------\n",
      "切片之后的数据：\n",
      " [[ 0  1  2  3  4]\n",
      " [10 11 12 13 14]\n",
      " [20 21 22 23 24]\n",
      " [30 31 32 33 34]]\n",
      "\n"
     ]
    }
   ],
   "source": [
    "print(arr)\n",
    "print('-----------------------')\n",
    "row_index = (arr[:,0]>=50)&(arr[:,0]<=80)\n",
    "col_index = (arr[0,:]>=5)\n",
    "print('切片之后的数据：\\n',arr[row_index,:][:,col_index])\n",
    "#取前四行 钱五列\n",
    "print('-----------------------')\n",
    "row_index = (arr[:,0]<40)\n",
    "col_index = (arr[0,:]<=4)\n",
    "print('切片之后的数据：\\n',arr[row_index,:][:,col_index])\n",
    "#取前四行 钱五列\n",
    "print()"
   ]
  },
  {
   "cell_type": "code",
   "execution_count": 1,
   "id": "b2efe4a8",
   "metadata": {
    "scrolled": true
   },
   "outputs": [
    {
     "name": "stdout",
     "output_type": "stream",
     "text": [
      "[[25 26 27 28 29]\n",
      " [45 46 47 48 49]\n",
      " [65 66 67 68 69]\n",
      " [85 86 87 88 89]]\n"
     ]
    }
   ],
   "source": [
    "import numpy as np\n",
    "\n",
    "arr = np.arange(10 * 10, dtype=int).reshape(10, 10)\n",
    "newArr = arr[2:9:2, 5:].copy()\n",
    "print(newArr)\n"
   ]
  },
  {
   "cell_type": "markdown",
   "id": "0b74a8c6",
   "metadata": {},
   "source": [
    "## Numpy的统计分析"
   ]
  },
  {
   "cell_type": "code",
   "execution_count": 7,
   "id": "69e96a07",
   "metadata": {},
   "outputs": [
    {
     "name": "stdout",
     "output_type": "stream",
     "text": [
      "创建的随机数： [14  2  7 11 16  4  9 18  3  2]\n",
      "排序之后的数据 [ 2  2  3  4  7  9 11 14 16 18]\n"
     ]
    }
   ],
   "source": [
    "np.random.seed(60)\n",
    "arr=np.random.randint(1,20,size=10)\n",
    "print(\"创建的随机数：\",arr)\n",
    "arr.sort()\n",
    "print(\"排序之后的数据\",arr)"
   ]
  },
  {
   "cell_type": "code",
   "execution_count": 8,
   "id": "e39e438c",
   "metadata": {
    "scrolled": true
   },
   "outputs": [
    {
     "name": "stdout",
     "output_type": "stream",
     "text": [
      "创建的随机数： [14  2  7 11 16  4  9 18  3  2]\n",
      "排序之后的数据 [ 2  2  3  4  7  9 11 14 16 18]\n"
     ]
    }
   ],
   "source": [
    "np.random.seed(60)\n",
    "arr=np.random.randint(1,20,size=10)\n",
    "print(\"创建的随机数：\",arr)\n",
    "arr.sort()\n",
    "print(\"排序之后的数据\",arr)"
   ]
  },
  {
   "cell_type": "code",
   "execution_count": 10,
   "id": "42557f24",
   "metadata": {},
   "outputs": [
    {
     "name": "stdout",
     "output_type": "stream",
     "text": [
      "创建的随机数组\n",
      " [[ 7  8  6 19  2]\n",
      " [13  8 19 11 10]\n",
      " [ 1 18 10  9 16]\n",
      " [15  9 11  4  4]\n",
      " [ 8 18 14  6 19]]\n",
      "--------------------\n",
      "[[ 1  8  6  4  2]\n",
      " [ 7  8 10  6  4]\n",
      " [ 8  9 11  9 10]\n",
      " [13 18 14 11 16]\n",
      " [15 18 19 19 19]]\n",
      "----------------------\n",
      "[[ 1  2  4  6  8]\n",
      " [ 4  6  7  8 10]\n",
      " [ 8  9  9 10 11]\n",
      " [11 13 14 16 18]\n",
      " [15 18 19 19 19]]\n"
     ]
    }
   ],
   "source": [
    "np.random.seed(40)\n",
    "arr=np.random.randint(1,20,size=(5,5))\n",
    "print(\"创建的随机数组\\n\",arr)\n",
    "arr.sort(axis=0)\n",
    "print(\"--------------------\")\n",
    "print(arr)\n",
    "arr.sort(axis=1)\n",
    "print(\"----------------------\")\n",
    "print(arr)"
   ]
  },
  {
   "cell_type": "markdown",
   "id": "3727cbeb",
   "metadata": {},
   "source": [
    "## 间接排序 argsort（）\n",
    "间接排序是"
   ]
  },
  {
   "cell_type": "code",
   "execution_count": 49,
   "id": "d7545cf9",
   "metadata": {
    "scrolled": true
   },
   "outputs": [
    {
     "name": "stdout",
     "output_type": "stream",
     "text": [
      "元数据\n",
      " [0 0 1 3 6 7 9]\n",
      "索引排序后\n",
      " [0 1 2 3 4 5 6]\n"
     ]
    }
   ],
   "source": [
    "arr=np.array([0,6,3,9,1,7,0])\n",
    "arr.sort()\n",
    "print(\"元数据\\n\",arr)\n",
    "print(\"索引排序后\\n\",arr.argsort())"
   ]
  },
  {
   "cell_type": "markdown",
   "id": "8c7a4963",
   "metadata": {},
   "source": [
    "## 间接排序 lexsort（）"
   ]
  },
  {
   "cell_type": "code",
   "execution_count": 27,
   "id": "835654a7",
   "metadata": {},
   "outputs": [
    {
     "name": "stdout",
     "output_type": "stream",
     "text": [
      "总成绩的排序 [1 5 1 4 3 4 4]\n",
      "总成绩排序索引 [0 2 4 3 5 6 1]\n",
      "排序结果是 [2 0 4 6 5 3 1]\n",
      "----------------\n",
      "排序结果是 [2 0 4 5 3 6 1]\n"
     ]
    }
   ],
   "source": [
    "a_totle=np.array([1,5,1,4,3,4,4])\n",
    "ac =a_totle.copy()\n",
    "print(\"总成绩的排序\",ac)\n",
    "print(\"总成绩排序索引\",ac.argsort())\n",
    "b_math=np.array([9,4,0,4,0,2,1])\n",
    "bc=b_math.copy()\n",
    "print(\"排序结果是\",np.lexsort((bc,ac)))\n",
    "print(\"----------------\")\n",
    "a_totle=np.array([1,5,1,4,3,4,4])\n",
    "b_math=np.array([9,4,0,4,1,2,7])\n",
    "print(\"排序结果是\",np.lexsort((b_math,a_totle)))"
   ]
  },
  {
   "cell_type": "markdown",
   "id": "e88739a3",
   "metadata": {},
   "source": [
    "## 数据清洗 nuique() 查找唯一值并返回已排序结果"
   ]
  },
  {
   "cell_type": "code",
   "execution_count": 29,
   "id": "20c6f1b8",
   "metadata": {},
   "outputs": [
    {
     "name": "stdout",
     "output_type": "stream",
     "text": [
      "去重取唯一 ['bicycel' 'bus' 'car' 'ship' 'subway' 'train']\n"
     ]
    }
   ],
   "source": [
    "arrs=['train','bus','car','ship','subway','ship','bicycel']\n",
    "print(\"去重取唯一\",np.unique(arrs))"
   ]
  },
  {
   "cell_type": "code",
   "execution_count": 33,
   "id": "32e3990b",
   "metadata": {},
   "outputs": [
    {
     "name": "stdout",
     "output_type": "stream",
     "text": [
      "去重数组 [0 1 2 3 4 5 6 7 8 9]\n"
     ]
    }
   ],
   "source": [
    "arrs=[1,2,6,3,8,3,0,1,7,9,2,0,3,5,4,8,9,3,4]\n",
    "print(\"去重数组\",np.unique(arrs))"
   ]
  },
  {
   "cell_type": "markdown",
   "id": "354e7fab",
   "metadata": {},
   "source": [
    "## 数据的重复操作\n",
    " 1.tile（）\n",
    " 2.repeat（）"
   ]
  },
  {
   "cell_type": "code",
   "execution_count": 35,
   "id": "c15b5a02",
   "metadata": {},
   "outputs": [
    {
     "name": "stdout",
     "output_type": "stream",
     "text": [
      "[0 1 2 3 4]\n",
      "[0 1 2 3 4 0 1 2 3 4 0 1 2 3 4 0 1 2 3 4]\n"
     ]
    }
   ],
   "source": [
    "arr= np.arange(5)\n",
    "print(arr)\n",
    "print(np.tile(arr,4))"
   ]
  },
  {
   "cell_type": "code",
   "execution_count": 37,
   "id": "635c437f",
   "metadata": {},
   "outputs": [
    {
     "name": "stdout",
     "output_type": "stream",
     "text": [
      "[[1 1 2]\n",
      " [5 7 6]\n",
      " [7 7 6]]\n",
      "----------\n",
      "[[1 1 1 1 2 2]\n",
      " [5 5 7 7 6 6]\n",
      " [7 7 7 7 6 6]]\n",
      "----------\n",
      "[[1 1 2]\n",
      " [1 1 2]\n",
      " [5 7 6]\n",
      " [5 7 6]\n",
      " [7 7 6]\n",
      " [7 7 6]]\n"
     ]
    }
   ],
   "source": [
    "np.random.seed(50)\n",
    "arr = np.random.randint(1, 10, size=(3, 3))\n",
    "print(arr)\n",
    "print(\"----------\")\n",
    "print(np.repeat(arr, 2, axis=1))#对横轴重复\n",
    "print(\"----------\")\n",
    "print(np.repeat(arr, 2, axis=0))#对纵轴重复"
   ]
  },
  {
   "cell_type": "markdown",
   "id": "4a7d2cfd",
   "metadata": {},
   "source": [
    "## 统计函数"
   ]
  },
  {
   "cell_type": "code",
   "execution_count": 39,
   "id": "df9b52bc",
   "metadata": {},
   "outputs": [
    {
     "name": "stdout",
     "output_type": "stream",
     "text": [
      "创建的数组\n",
      " [[ 0  1  2  3  4]\n",
      " [ 5  6  7  8  9]\n",
      " [10 11 12 13 14]\n",
      " [15 16 17 18 19]]\n",
      "求和 190\n",
      "纵轴求和 [30 34 38 42 46]\n",
      "横轴求和 [10 35 60 85]\n"
     ]
    }
   ],
   "source": [
    "arr =np.arange(20).reshape(4,5)\n",
    "print(\"创建的数组\\n\",arr)\n",
    "print(\"求和\",np.sum(arr))\n",
    "print(\"纵轴求和\",np.sum(arr,axis=0))\n",
    "print(\"横轴求和\",np.sum(arr,axis=1))"
   ]
  },
  {
   "cell_type": "markdown",
   "id": "360033a6",
   "metadata": {},
   "source": [
    "## 平均值"
   ]
  },
  {
   "cell_type": "code",
   "execution_count": 42,
   "id": "d48fa1f2",
   "metadata": {},
   "outputs": [
    {
     "name": "stdout",
     "output_type": "stream",
     "text": [
      "球均值 9.5\n",
      "球纵轴均值 [ 7.5  8.5  9.5 10.5 11.5]\n",
      "球横轴均值 [ 2.  7. 12. 17.]\n"
     ]
    }
   ],
   "source": [
    "arr =np.arange(20).reshape(4,5)\n",
    "print(\"球均值\", np.mean(arr))\n",
    "print(\"球纵轴均值\", np.mean(arr, axis=0))\n",
    "print(\"球横轴均值\", np.mean(arr, axis=1))"
   ]
  },
  {
   "cell_type": "markdown",
   "id": "96aabaa2",
   "metadata": {},
   "source": [
    "## 最值"
   ]
  },
  {
   "cell_type": "code",
   "execution_count": 44,
   "id": "08e09511",
   "metadata": {},
   "outputs": [
    {
     "name": "stdout",
     "output_type": "stream",
     "text": [
      "0\n",
      "19\n"
     ]
    }
   ],
   "source": [
    "print(np.min(arr))#最小值\n",
    "print(np.max(arr))#最大值"
   ]
  },
  {
   "cell_type": "markdown",
   "id": "1b17bc72",
   "metadata": {},
   "source": [
    "##\n",
    "### 1先输出所有元数据的价格\n",
    "### 2对数据进行直接排序并输出\n",
    "### 3去掉重复数据\n",
    "### 4计算所有价格的总和\n",
    "### 5获取最低价格\n",
    "### 6获取最高价格"
   ]
  },
  {
   "cell_type": "code",
   "execution_count": 45,
   "id": "ca1b8d5d",
   "metadata": {},
   "outputs": [
    {
     "name": "stdout",
     "output_type": "stream",
     "text": [
      "[  54.4    54.5    62.4    72.6    62.4    38.7    54.5    62.4    54.5\n",
      "   38.7    48.     38.7    30.    109.    144.71   26.6   158.     85.3\n",
      "  237.    237.     64.3   164.38  237.     46.6    94.     20.     17.99\n",
      "   46.5    50.2   300.     38.7    63.9   300.     39.99  300.     38.7\n",
      "   62.4    54.     62.4    46.6    40.     54.4    54.     67.1    60.\n",
      "   39.     29.4    53.04   29.99   46.6    47.4    29.99   26.39   70.9\n",
      "   64.7    49.     46.6   219.6    41.06   38.7    30.6   734.     33.4\n",
      "   54.5    36.    500.     56.3    31.29   30.     46.5   189.6   118.5\n",
      "   47.6    70.3   349.    189.6    38.7   189.6   189.6   189.6    46.6\n",
      "   29.3    49.8    39.2    27.6    47.4    70.3   150.1   101.1   150.1\n",
      "   31.8   126.4   150.     52.2    71.1    61.6    35.     62.4    16.99\n",
      "  109.     23.6   118.5   118.5    89.     86.9   209.5    38.7    59.2\n",
      "   58.4    78.    109.     27.     63.2    46.6    62.4   101.1    54.5\n",
      "   95.     36.8    47.4    63.     46.6    78.2    67.4    31.6    51.\n",
      "   41.2    79.    155.9    60.5   290.7    62.4    62.4    38.7    54.5\n",
      "   47.1    71.8    10.     70.3     7.62   94.     10.      7.62   69.1\n",
      "   15.     54.5     7.62    6.1    53.7     3.81   10.      7.62   10.\n",
      "    8.      8.      6.1     8.      3.81   88.      3.81    6.1     5.\n",
      "    3.81    5.      5.      3.81    5.      3.81    8.      6.1     8.\n",
      "    8.      5.     38.7     3.81    5.      5.      6.1     5.      3.81\n",
      "    5.      3.81    5.      3.81    5.      5.      3.81    5.      5.\n",
      "    3.81    5.      3.81    3.81  101.9     8.      5.      3.81   54.5\n",
      "    3.81    3.81   37.4    50.4     5.     62.4     5.     17.3     8.\n",
      "   27.     38.7     5.    398.     54.5    45.     38.7     3.81    5.\n",
      "    5.      3.81   51.3    62.4    54.5    59.2   566.7    46.6   258.8\n",
      "  109.8    70.8   454.     63.     38.6    38.7    23.3    52.6    36.\n",
      "  405.     43.5    30.8    33.1   271.    540.     53.7    89.6    54.5\n",
      "  178.    189.6    63.2   417.6   314.4    25.9    62.4   278.   1198.\n",
      "  620.    505.     39.2    32.5   200.    188.     58.5    98.    188.\n",
      "  109.8  1278.2   132.7   211.7   178.     54.5    77.4    72.7    38.7\n",
      "   62.4    85.     46.6   101.1    38.7    34.6   101.1   101.1    40.9\n",
      "   79.     40.1    62.4   171.     62.4    19.7    98.7    88.     62.4\n",
      "   51.3    75.     39.8   101.1    94.8    43.5    61.6   101.1    38.7\n",
      "   30.     59.3    62.4 ]\n"
     ]
    }
   ],
   "source": [
    "txtb=np.loadtxt('D:\\Desktop\\price.csv',delimiter=',',dtype=float)#读取\n",
    "print(txtb)#1先输出所有元数据的价格"
   ]
  },
  {
   "cell_type": "code",
   "execution_count": 51,
   "id": "60025618",
   "metadata": {},
   "outputs": [
    {
     "name": "stdout",
     "output_type": "stream",
     "text": [
      "[   3.81    3.81    3.81    3.81    3.81    3.81    3.81    3.81    3.81\n",
      "    3.81    3.81    3.81    3.81    3.81    3.81    3.81    3.81    3.81\n",
      "    3.81    5.      5.      5.      5.      5.      5.      5.      5.\n",
      "    5.      5.      5.      5.      5.      5.      5.      5.      5.\n",
      "    5.      5.      5.      5.      6.1     6.1     6.1     6.1     6.1\n",
      "    7.62    7.62    7.62    7.62    8.      8.      8.      8.      8.\n",
      "    8.      8.      8.     10.     10.     10.     10.     15.     16.99\n",
      "   17.3    17.99   19.7    20.     23.3    23.6    25.9    26.39   26.6\n",
      "   27.     27.     27.6    29.3    29.4    29.99   29.99   30.     30.\n",
      "   30.     30.6    30.8    31.29   31.6    31.8    32.5    33.1    33.4\n",
      "   34.6    35.     36.     36.     36.8    37.4    38.6    38.7    38.7\n",
      "   38.7    38.7    38.7    38.7    38.7    38.7    38.7    38.7    38.7\n",
      "   38.7    38.7    38.7    38.7    38.7    39.     39.2    39.2    39.8\n",
      "   39.99   40.     40.1    40.9    41.06   41.2    43.5    43.5    45.\n",
      "   46.5    46.5    46.6    46.6    46.6    46.6    46.6    46.6    46.6\n",
      "   46.6    46.6    47.1    47.4    47.4    47.4    47.6    48.     49.\n",
      "   49.8    50.2    50.4    51.     51.3    51.3    52.2    52.6    53.04\n",
      "   53.7    53.7    54.     54.     54.4    54.4    54.5    54.5    54.5\n",
      "   54.5    54.5    54.5    54.5    54.5    54.5    54.5    54.5    54.5\n",
      "   56.3    58.4    58.5    59.2    59.2    59.3    60.     60.5    61.6\n",
      "   61.6    62.4    62.4    62.4    62.4    62.4    62.4    62.4    62.4\n",
      "   62.4    62.4    62.4    62.4    62.4    62.4    62.4    62.4    62.4\n",
      "   63.     63.     63.2    63.2    63.9    64.3    64.7    67.1    67.4\n",
      "   69.1    70.3    70.3    70.3    70.8    70.9    71.1    71.8    72.6\n",
      "   72.7    75.     77.4    78.     78.2    79.     79.     85.     85.3\n",
      "   86.9    88.     88.     89.     89.6    94.     94.     94.8    95.\n",
      "   98.     98.7   101.1   101.1   101.1   101.1   101.1   101.1   101.1\n",
      "  101.9   109.    109.    109.    109.8   109.8   118.5   118.5   118.5\n",
      "  126.4   132.7   144.71  150.    150.1   150.1   155.9   158.    164.38\n",
      "  171.    178.    178.    188.    188.    189.6   189.6   189.6   189.6\n",
      "  189.6   189.6   200.    209.5   211.7   219.6   237.    237.    237.\n",
      "  258.8   271.    278.    290.7   300.    300.    300.    314.4   349.\n",
      "  398.    405.    417.6   454.    500.    505.    540.    566.7   620.\n",
      "  734.   1198.   1278.2 ]\n"
     ]
    }
   ],
   "source": [
    "txtb=np.loadtxt('D:\\Desktop\\price.csv',delimiter=',',dtype=float)#读取\n",
    "txtb.sort()\n",
    "print(txtb)#2对数据进行直接排序并输出"
   ]
  },
  {
   "cell_type": "code",
   "execution_count": 52,
   "id": "ac96469f",
   "metadata": {},
   "outputs": [
    {
     "name": "stdout",
     "output_type": "stream",
     "text": [
      "去重取唯一 [   3.81    5.      6.1     7.62    8.     10.     15.     16.99   17.3\n",
      "   17.99   19.7    20.     23.3    23.6    25.9    26.39   26.6    27.\n",
      "   27.6    29.3    29.4    29.99   30.     30.6    30.8    31.29   31.6\n",
      "   31.8    32.5    33.1    33.4    34.6    35.     36.     36.8    37.4\n",
      "   38.6    38.7    39.     39.2    39.8    39.99   40.     40.1    40.9\n",
      "   41.06   41.2    43.5    45.     46.5    46.6    47.1    47.4    47.6\n",
      "   48.     49.     49.8    50.2    50.4    51.     51.3    52.2    52.6\n",
      "   53.04   53.7    54.     54.4    54.5    56.3    58.4    58.5    59.2\n",
      "   59.3    60.     60.5    61.6    62.4    63.     63.2    63.9    64.3\n",
      "   64.7    67.1    67.4    69.1    70.3    70.8    70.9    71.1    71.8\n",
      "   72.6    72.7    75.     77.4    78.     78.2    79.     85.     85.3\n",
      "   86.9    88.     89.     89.6    94.     94.8    95.     98.     98.7\n",
      "  101.1   101.9   109.    109.8   118.5   126.4   132.7   144.71  150.\n",
      "  150.1   155.9   158.    164.38  171.    178.    188.    189.6   200.\n",
      "  209.5   211.7   219.6   237.    258.8   271.    278.    290.7   300.\n",
      "  314.4   349.    398.    405.    417.6   454.    500.    505.    540.\n",
      "  566.7   620.    734.   1198.   1278.2 ]\n"
     ]
    }
   ],
   "source": [
    "txtb=np.loadtxt('D:\\Desktop\\price.csv',delimiter=',',dtype=float)#读取\n",
    "print(\"去重取唯一\",np.unique(txtb))#3去掉重复数据"
   ]
  },
  {
   "cell_type": "code",
   "execution_count": null,
   "id": "3fe7eab6",
   "metadata": {},
   "outputs": [],
   "source": []
  }
 ],
 "metadata": {
  "kernelspec": {
   "display_name": "Python 3",
   "language": "python",
   "name": "python3"
  },
  "language_info": {
   "codemirror_mode": {
    "name": "ipython",
    "version": 3
   },
   "file_extension": ".py",
   "mimetype": "text/x-python",
   "name": "python",
   "nbconvert_exporter": "python",
   "pygments_lexer": "ipython3",
   "version": "3.9.2"
  }
 },
 "nbformat": 4,
 "nbformat_minor": 5
}