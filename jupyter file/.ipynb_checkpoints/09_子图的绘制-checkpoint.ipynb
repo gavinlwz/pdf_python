{
 "cells": [
  {
   "cell_type": "markdown",
   "id": "38dbcad9",
   "metadata": {},
   "source": [
    "# 绘制单子图"
   ]
  },
  {
   "cell_type": "markdown",
   "id": "5da87a89",
   "metadata": {},
   "source": [
    "subplot(nrows, ncols,index, projection, polar, sharex, sharey, label)  \n",
    "nrows:表示规划区域的行数。  \n",
    "ncols:表示规划区域的列数。 1 I  \n",
    "index：表示选择区域的索引，默认从1开始编号。  \n",
    "projection:表示子图的投影类型。  \n",
    "polar：表示是否使用极坐标，默认值为False。若参数polar设为True，则作用等同于projection='polar'  \n",
    "sharex,sharey:是否共享子图的x轴和y轴  "
   ]
  },
  {
   "cell_type": "code",
   "execution_count": null,
   "id": "54a34e55",
   "metadata": {},
   "outputs": [],
   "source": [
    "import numpy as np\n",
    "%matplotlib auto\n",
    "import matplotlib.pyplot as plt\n",
    "\n",
    "ax_one = plt.subplot(326)\n",
    "ax_one.plot([1, 2, 3, 4, 5, 6])\n",
    "ax_two = plt.subplot(312)\n",
    "ax_two.plot([1, 2, 3, 4, 5, 6])\n",
    "plt.show()\n"
   ]
  },
  {
   "cell_type": "code",
   "execution_count": 2,
   "id": "b44e486d",
   "metadata": {},
   "outputs": [
    {
     "name": "stdout",
     "output_type": "stream",
     "text": [
      "Using matplotlib backend: TkAgg\n"
     ]
    }
   ],
   "source": [
    "import numpy as np\n",
    "%matplotlib auto\n",
    "import matplotlib.pyplot as plt\n",
    "plt.rcParams['font.sans-serif'] = ['simHei']\n",
    "plt.rcParams['axes.unicode_minus'] = False\n",
    "ax_two = plt.subplot(312)\n",
    "x = np.arange(1, 13)  # 生产日期\n",
    "y_max = ([20, 28, 23, 16, 29, 36, 39, 33, 31, 19, 21, 25])\n",
    "y_min = ([17, 22, 39, 26, 35, 23, 25, 27, 29, 38, 28, 20])\n",
    "ax_two.plot(x, y_max,'b--o')  # 画最高温\n",
    "ax_two.plot(x, y_min,'g--o')  # 画对低温\n",
    "ax_one = plt.subplot(326)\n",
    "ax_oni = plt.subplot(325)\n",
    "pie_labels = np.array(['1月', '2月', '3月', '4月', '5月', '6月', '7月', '8月', '9月', '10月', '11月', '12月', ])\n",
    "ax_one.pie(y_max, radius=1.6, explode=None, labels=pie_labels, autopct='%3.1f%%')\n",
    "ax_oni.pie(y_min, radius=1.6, explode=None, labels=pie_labels, autopct='%3.1f%%')\n",
    "plt.show()\n"
   ]
  },
  {
   "cell_type": "code",
   "execution_count": null,
   "id": "832d366d",
   "metadata": {},
   "outputs": [],
   "source": []
  },
  {
   "cell_type": "code",
   "execution_count": null,
   "id": "ef76e1e9",
   "metadata": {},
   "outputs": [],
   "source": []
  },
  {
   "cell_type": "code",
   "execution_count": null,
   "id": "6b43d842",
   "metadata": {},
   "outputs": [],
   "source": []
  }
 ],
 "metadata": {
  "kernelspec": {
   "display_name": "Python 3",
   "language": "python",
   "name": "python3"
  },
  "language_info": {
   "codemirror_mode": {
    "name": "ipython",
    "version": 3
   },
   "file_extension": ".py",
   "mimetype": "text/x-python",
   "name": "python",
   "nbconvert_exporter": "python",
   "pygments_lexer": "ipython3",
   "version": "3.9.7"
  }
 },
 "nbformat": 4,
 "nbformat_minor": 5
}
