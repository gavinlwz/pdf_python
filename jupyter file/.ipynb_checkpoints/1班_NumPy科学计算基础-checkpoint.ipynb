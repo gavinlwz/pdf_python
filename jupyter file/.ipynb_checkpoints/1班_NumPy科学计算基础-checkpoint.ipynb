{
 "cells": [
  {
   "cell_type": "code",
   "execution_count": 57,
   "metadata": {},
   "outputs": [
    {
     "data": {
      "text/plain": [
       "3"
      ]
     },
     "execution_count": 57,
     "metadata": {},
     "output_type": "execute_result"
    }
   ],
   "source": [
    "arr = [1,2,3,4,5,6]\n",
    "arr[2]"
   ]
  },
  {
   "cell_type": "markdown",
   "metadata": {},
   "source": [
    "### 数组属性：\n",
    " ndim  返回int 表示数组维数  \n",
    " shape  返回tuple，表示数组尺寸，n行m列的矩阵，形状为(n,m)  \n",
    " size  返回int 表示数组元素总数，等于数组形状的乘积  \n",
    " dtype 返回data-type，描述数组中元素的类型  \n",
    " itemsize 返回int，表示数组每个元素的大小，例如一个float的数组的itemsize属性值时8 "
   ]
  },
  {
   "cell_type": "code",
   "execution_count": 1,
   "metadata": {},
   "outputs": [
    {
     "name": "stdout",
     "output_type": "stream",
     "text": [
      "创建的一维数组时：\n",
      " [1 2 3 4 5 6]\n"
     ]
    }
   ],
   "source": [
    "import numpy as np  # 重命名\n",
    "\n",
    "arr1 = np.array([1,2,3,4,5,6])\n",
    "print(\"创建的一维数组时：\\n\",arr1)"
   ]
  },
  {
   "cell_type": "code",
   "execution_count": 11,
   "metadata": {},
   "outputs": [
    {
     "name": "stdout",
     "output_type": "stream",
     "text": [
      "创建的是二维数组:\n",
      " [[1 2 3]\n",
      " [4 5 6]\n",
      " [7 8 9]]\n",
      "数组的尺寸： (3, 3)\n",
      "数组类型： int32\n",
      "数组的每个元素大小: 4\n",
      "数组元素个数： 9\n"
     ]
    }
   ],
   "source": [
    "arr2 = np.array([[1,2,3],[4,5,6],[7,8,9]])\n",
    "print(\"创建的是二维数组:\\n\",arr2)\n",
    "print(\"数组的尺寸：\",arr2.shape)\n",
    "print(\"数组类型：\",arr2.dtype)\n",
    "print(\"数组的每个元素大小:\",arr2.itemsize)\n",
    "print(\"数组元素个数：\",arr2.size)"
   ]
  },
  {
   "cell_type": "markdown",
   "metadata": {},
   "source": [
    "##### 生成数组"
   ]
  },
  {
   "cell_type": "code",
   "execution_count": 12,
   "metadata": {},
   "outputs": [
    {
     "name": "stdout",
     "output_type": "stream",
     "text": [
      "[0.  0.2 0.4 0.6 0.8]\n"
     ]
    }
   ],
   "source": [
    "#   初值，终值，步长；从0到1，每隔0.2取一个数\n",
    "print(\"使用arange函数创建数组\",np.arange(0,1,0.2))   #前包后闭"
   ]
  },
  {
   "cell_type": "code",
   "execution_count": 17,
   "metadata": {},
   "outputs": [
    {
     "name": "stdout",
     "output_type": "stream",
     "text": [
      "使用linspace函数创建数组: [0.  0.2 0.4 0.6 0.8 1. ]\n"
     ]
    }
   ],
   "source": [
    "# 初值，终值，个数；从0到1，一共取6个数\n",
    "print(\"使用linspace函数创建数组:\",np.linspace(0,1,6))"
   ]
  },
  {
   "cell_type": "code",
   "execution_count": 18,
   "metadata": {},
   "outputs": [
    {
     "name": "stdout",
     "output_type": "stream",
     "text": [
      " [  1.           4.64158883  21.5443469  100.        ]\n"
     ]
    }
   ],
   "source": [
    "print(\"使用logspace生成等比数列的数组：\",np.logspace(0,2,4))"
   ]
  },
  {
   "cell_type": "code",
   "execution_count": 29,
   "metadata": {},
   "outputs": [
    {
     "name": "stdout",
     "output_type": "stream",
     "text": [
      "使用zeros函数生成元素全是0的数组：\n",
      " [[0. 0.]\n",
      " [0. 0.]\n",
      " [0. 0.]]\n"
     ]
    }
   ],
   "source": [
    "print(\"使用zeros函数生成元素全是0的数组：\\n\",np.zeros((3,2)))"
   ]
  },
  {
   "cell_type": "code",
   "execution_count": 30,
   "metadata": {},
   "outputs": [
    {
     "name": "stdout",
     "output_type": "stream",
     "text": [
      "使用eye函数生成除了对角线是1，其他元素全是0的数组：\n",
      " [[1. 0. 0. 0. 0. 0.]\n",
      " [0. 1. 0. 0. 0. 0.]\n",
      " [0. 0. 1. 0. 0. 0.]\n",
      " [0. 0. 0. 1. 0. 0.]\n",
      " [0. 0. 0. 0. 1. 0.]\n",
      " [0. 0. 0. 0. 0. 1.]]\n"
     ]
    }
   ],
   "source": [
    "print(\"使用eye函数生成除了对角线是1，其他元素全是0的数组：\\n\",np.eye(6))"
   ]
  },
  {
   "cell_type": "code",
   "execution_count": 33,
   "metadata": {},
   "outputs": [
    {
     "name": "stdout",
     "output_type": "stream",
     "text": [
      "使用diag生成除了对角线之外元素都是0，且自定义对角线元素的数组：\n",
      " [[ 1  0  0  0  0  0]\n",
      " [ 0  2  0  0  0  0]\n",
      " [ 0  0  3  0  0  0]\n",
      " [ 0  0  0  5  0  0]\n",
      " [ 0  0  0  0 55  0]\n",
      " [ 0  0  0  0  0  0]]\n"
     ]
    }
   ],
   "source": [
    "print(\"使用diag生成除了对角线之外元素都是0，且自定义对角线元素的数组：\\n\",np.diag([1,2,3,5,55,0]))"
   ]
  },
  {
   "cell_type": "code",
   "execution_count": 36,
   "metadata": {},
   "outputs": [
    {
     "name": "stdout",
     "output_type": "stream",
     "text": [
      "使用ones函数生成元素全是1的矩阵：\n",
      " [[1. 1. 1. 1. 1.]\n",
      " [1. 1. 1. 1. 1.]\n",
      " [1. 1. 1. 1. 1.]\n",
      " [1. 1. 1. 1. 1.]\n",
      " [1. 1. 1. 1. 1.]\n",
      " [1. 1. 1. 1. 1.]]\n"
     ]
    }
   ],
   "source": [
    "print(\"使用ones函数生成元素全是1的矩阵：\\n\",np.ones((6,5)))"
   ]
  },
  {
   "cell_type": "code",
   "execution_count": 41,
   "metadata": {},
   "outputs": [
    {
     "name": "stdout",
     "output_type": "stream",
     "text": [
      "生成随机数组： [0.77723134 0.46213504 0.03000105 0.33233773 0.06496446 0.21175854\n",
      " 0.96120259 0.71322584 0.41554397 0.02488614]\n"
     ]
    }
   ],
   "source": [
    "print(\"生成随机数组：\",np.random.random(10))"
   ]
  },
  {
   "cell_type": "code",
   "execution_count": 49,
   "metadata": {},
   "outputs": [
    {
     "name": "stdout",
     "output_type": "stream",
     "text": [
      "[[0.29281508 0.56955467 0.08451923 0.33090024]\n",
      " [0.17773833 0.97093179 0.60326163 0.61798647]\n",
      " [0.48742822 0.14181394 0.01460754 0.55676853]\n",
      " [0.33392022 0.71755797 0.93438433 0.84622066]\n",
      " [0.48277788 0.6990389  0.57719059 0.24181558]]\n"
     ]
    }
   ],
   "source": [
    "print(\"生成均匀分布的随机数组：\",np.random.rand(5,4))"
   ]
  },
  {
   "cell_type": "code",
   "execution_count": 54,
   "metadata": {},
   "outputs": [
    {
     "name": "stdout",
     "output_type": "stream",
     "text": [
      "使用randint生成有元素有上下限范围的随机数数组：\n",
      " [[4 4 0 0 4]\n",
      " [1 0 2 3 3]\n",
      " [3 1 2 3 4]\n",
      " [0 0 2 0 2]\n",
      " [4 4 1 2 3]]\n"
     ]
    }
   ],
   "source": [
    "print(\"使用randint生成有元素有上下限范围的随机数数组：\\n\",np.random.randint(0,5,size=[5,5],dtype=np.int))  #前包后闭"
   ]
  },
  {
   "cell_type": "code",
   "execution_count": 56,
   "metadata": {},
   "outputs": [
    {
     "name": "stdout",
     "output_type": "stream",
     "text": [
      "生成高斯分布的数组（钟形曲线）:\n",
      " [[ 0.76822858 -0.34506711 -1.33485582  0.37953398  0.817324  ]\n",
      " [-2.05736878  0.21514315 -1.33968691  0.31303367  1.55325663]\n",
      " [ 1.1732136  -0.71152485  1.08088006 -0.25201781 -0.69572528]\n",
      " [-0.37864317 -1.01873435 -0.1173605   0.23870886 -2.03936668]]\n"
     ]
    }
   ],
   "source": [
    "print(\"生成高斯分布的数组（钟形曲线）:\\n\",np.random.randn(4,5))"
   ]
  },
  {
   "cell_type": "markdown",
   "metadata": {},
   "source": [
    "####  存储和读取数据\n",
    "savetxt()保存  \n",
    "loadtxt()读取   "
   ]
  },
  {
   "cell_type": "code",
   "execution_count": 3,
   "metadata": {},
   "outputs": [
    {
     "name": "stdout",
     "output_type": "stream",
     "text": [
      "[1. 2. 3. 4. 5. 6.]\n"
     ]
    }
   ],
   "source": [
    "txta = np.array([1,2,3,4,5,6])\n",
    "# np.savetxt('路径',需要保存的内容,格式)\n",
    "np.savetxt('files/numpy_out.txt',txta,fmt=\"%d\")\n",
    "txtb = np.loadtxt('files/numpy_out.txt',delimiter=',',dtype=float)\n",
    "print(txtb)"
   ]
  },
  {
   "cell_type": "code",
   "execution_count": 12,
   "metadata": {},
   "outputs": [
    {
     "name": "stdout",
     "output_type": "stream",
     "text": [
      "[[0.  0.5 1.  1.5]\n",
      " [2.  2.5 3.  3.5]\n",
      " [4.  4.5 5.  5.5]\n",
      " [6.  6.5 7.  7.5]\n",
      " [8.  8.5 9.  9.5]]\n",
      "[[0. 0. 1. 1.]\n",
      " [2. 2. 3. 3.]\n",
      " [4. 4. 5. 5.]\n",
      " [6. 6. 7. 7.]\n",
      " [8. 8. 9. 9.]]\n"
     ]
    }
   ],
   "source": [
    "# txtc = np.arange(0,10,0.5).reshape(行,列)\n",
    "txtc = np.arange(0,10,0.5).reshape(5,-1)  #只改行\n",
    "print(txtc)\n",
    "# txtc = np.arange(0,10,0.5).reshape(-1,2)  #只改列\n",
    "np.savetxt('files/numpy_out2.txt',txtc,fmt=\"%d\",delimiter=\",\") #逗号分割，保存为整数\n",
    "txtd = np.loadtxt('files/numpy_out2.txt',delimiter=',')\n",
    "print(txtd)"
   ]
  },
  {
   "cell_type": "markdown",
   "metadata": {},
   "source": [
    "#### 类型转换"
   ]
  },
  {
   "cell_type": "code",
   "execution_count": 43,
   "metadata": {},
   "outputs": [
    {
     "name": "stdout",
     "output_type": "stream",
     "text": [
      "40.0\n",
      "-128\n",
      "False\n",
      "True\n",
      "1.0\n",
      "0.0\n"
     ]
    }
   ],
   "source": [
    "print(np.float64(40))\n",
    "print(np.int8(384))  #-128~127\n",
    "print(np.bool(0))\n",
    "print(np.bool(10))\n",
    "print(np.float(True))\n",
    "print(np.float(False))"
   ]
  },
  {
   "cell_type": "markdown",
   "metadata": {},
   "source": [
    "#### 索引与切片 "
   ]
  },
  {
   "cell_type": "code",
   "execution_count": 51,
   "metadata": {},
   "outputs": [
    {
     "name": "stdout",
     "output_type": "stream",
     "text": [
      "[0 1 2 3 4 5 6 7]\n",
      "4\n",
      "[2 3 4]\n",
      "[2 3 4 5 6 7]\n",
      "[0 1 2 3 4]\n",
      "7\n",
      "7\n",
      "[  0   1  99 100   4   5   6   7]\n",
      "[  1 100   5]\n"
     ]
    }
   ],
   "source": [
    "arr = np.arange(8)\n",
    "print(arr)\n",
    "print(arr[4])\n",
    "print(arr[2:5])\n",
    "print(arr[2:])\n",
    "print(arr[:5])\n",
    "print(arr[7])\n",
    "print(arr[-1])\n",
    "\n",
    "# 修改切片之后的值\n",
    "arr[2:4] = 99,100\n",
    "print(arr)\n",
    "\n",
    "#每隔一个元素取一个元素\n",
    "print(arr[1:7:2])"
   ]
  },
  {
   "cell_type": "markdown",
   "metadata": {},
   "source": [
    "二维数组的索引与切片"
   ]
  },
  {
   "cell_type": "code",
   "execution_count": 60,
   "metadata": {},
   "outputs": [
    {
     "name": "stdout",
     "output_type": "stream",
     "text": [
      "创建的二维数组:\n",
      " [[ 0  1  2  3  4  5  6  7  8  9]\n",
      " [10 11 12 13 14 15 16 17 18 19]\n",
      " [20 21 22 23 24 25 26 27 28 29]\n",
      " [30 31 32 33 34 35 36 37 38 39]\n",
      " [40 41 42 43 44 45 46 47 48 49]\n",
      " [50 51 52 53 54 55 56 57 58 59]\n",
      " [60 61 62 63 64 65 66 67 68 69]\n",
      " [70 71 72 73 74 75 76 77 78 79]\n",
      " [80 81 82 83 84 85 86 87 88 89]\n",
      " [90 91 92 93 94 95 96 97 98 99]]\n",
      "------\n",
      "取2-8的偶数行:\n",
      " [[20 21 22 23 24 25 26 27 28 29]\n",
      " [40 41 42 43 44 45 46 47 48 49]\n",
      " [60 61 62 63 64 65 66 67 68 69]\n",
      " [80 81 82 83 84 85 86 87 88 89]]\n",
      "------\n",
      "取2-8偶数行中，第6列之后的元素数据：\n",
      " [[25 26 27 28 29]\n",
      " [45 46 47 48 49]\n",
      " [65 66 67 68 69]\n",
      " [85 86 87 88 89]]\n"
     ]
    }
   ],
   "source": [
    "arr = np.arange(10*10,dtype=int).reshape(10,10)\n",
    "print(\"创建的二维数组:\\n\",arr)\n",
    "print(\"------\")\n",
    "print(\"取2-8的偶数行:\\n\",arr[2:9:2,:])\n",
    "print(\"------\")\n",
    "print(\"取2-8偶数行中，第6列之后的元素数据：\\n\",arr[2:9:2,5:])"
   ]
  },
  {
   "cell_type": "code",
   "execution_count": 62,
   "metadata": {},
   "outputs": [
    {
     "name": "stdout",
     "output_type": "stream",
     "text": [
      "从后向前，第6列倒序向前一直到第1列：\n",
      " [[25 24 23 22 21 20]\n",
      " [45 44 43 42 41 40]\n",
      " [65 64 63 62 61 60]\n",
      " [85 84 83 82 81 80]]\n"
     ]
    }
   ],
   "source": [
    "print(\"从后向前，第6列倒序向前一直到第1列：\\n\",arr[2:9:2,5::-1])"
   ]
  },
  {
   "cell_type": "markdown",
   "metadata": {},
   "source": [
    "按照条件索引"
   ]
  },
  {
   "cell_type": "code",
   "execution_count": 67,
   "metadata": {},
   "outputs": [
    {
     "name": "stdout",
     "output_type": "stream",
     "text": [
      "[[ 0  1  2  3  4  5  6  7  8  9]\n",
      " [10 11 12 13 14 15 16 17 18 19]\n",
      " [20 21 22 23 24 25 26 27 28 29]\n",
      " [30 31 32 33 34 35 36 37 38 39]\n",
      " [40 41 42 43 44 45 46 47 48 49]\n",
      " [50 51 52 53 54 55 56 57 58 59]\n",
      " [60 61 62 63 64 65 66 67 68 69]\n",
      " [70 71 72 73 74 75 76 77 78 79]\n",
      " [80 81 82 83 84 85 86 87 88 89]\n",
      " [90 91 92 93 94 95 96 97 98 99]]\n",
      "-----\n",
      "切片之后的数据：\n",
      " [[55 56 57 58 59]\n",
      " [65 66 67 68 69]\n",
      " [75 76 77 78 79]\n",
      " [85 86 87 88 89]]\n",
      "-----\n",
      "切片之后的数据：\n",
      " [[ 0  1  2  3  4]\n",
      " [10 11 12 13 14]\n",
      " [20 21 22 23 24]\n",
      " [30 31 32 33 34]]\n"
     ]
    }
   ],
   "source": [
    "print(arr)\n",
    "print(\"-----\")\n",
    "row_index = (arr[:,0]>=50)&(arr[:,0]<=80)\n",
    "col_index = (arr[0,:]>=5)\n",
    "print(\"切片之后的数据：\\n\",arr[row_index,:][:,col_index])\n",
    "# 取前四行，前5列数据\n",
    "print(\"-----\")\n",
    "row_index = (arr[:,0]<40)\n",
    "col_index = (arr[0,:]<=4)\n",
    "print(\"切片之后的数据：\\n\",arr[row_index,:][:,col_index])"
   ]
  },
  {
   "cell_type": "code",
   "execution_count": 8,
   "metadata": {},
   "outputs": [
    {
     "ename": "IndexError",
     "evalue": "too many indices for array: array is 1-dimensional, but 2 were indexed",
     "output_type": "error",
     "traceback": [
      "\u001b[1;31m---------------------------------------------------------------------------\u001b[0m",
      "\u001b[1;31mIndexError\u001b[0m                                Traceback (most recent call last)",
      "\u001b[1;32m<ipython-input-8-61053d6ce320>\u001b[0m in \u001b[0;36m<module>\u001b[1;34m\u001b[0m\n\u001b[0;32m      3\u001b[0m \u001b[0mrow_index\u001b[0m \u001b[1;33m=\u001b[0m \u001b[1;33m[\u001b[0m\u001b[1;36m1\u001b[0m\u001b[1;33m,\u001b[0m\u001b[1;36m1\u001b[0m\u001b[1;33m,\u001b[0m\u001b[1;36m2\u001b[0m\u001b[1;33m,\u001b[0m\u001b[1;36m7\u001b[0m\u001b[1;33m]\u001b[0m\u001b[1;33m\u001b[0m\u001b[1;33m\u001b[0m\u001b[0m\n\u001b[0;32m      4\u001b[0m \u001b[0mcol_index\u001b[0m \u001b[1;33m=\u001b[0m \u001b[1;33m[\u001b[0m\u001b[1;36m0\u001b[0m\u001b[1;33m,\u001b[0m\u001b[1;36m2\u001b[0m\u001b[1;33m,\u001b[0m\u001b[1;36m4\u001b[0m\u001b[1;33m,\u001b[0m\u001b[1;36m8\u001b[0m\u001b[1;33m]\u001b[0m\u001b[1;33m\u001b[0m\u001b[1;33m\u001b[0m\u001b[0m\n\u001b[1;32m----> 5\u001b[1;33m \u001b[0marr\u001b[0m\u001b[1;33m[\u001b[0m\u001b[0mrow_index\u001b[0m\u001b[1;33m,\u001b[0m\u001b[0mcol_index\u001b[0m\u001b[1;33m]\u001b[0m\u001b[1;33m\u001b[0m\u001b[1;33m\u001b[0m\u001b[0m\n\u001b[0m",
      "\u001b[1;31mIndexError\u001b[0m: too many indices for array: array is 1-dimensional, but 2 were indexed"
     ]
    }
   ],
   "source": [
    "# 花式索引\n",
    "# 二维数组，用两个整数来定位一个元素(1,0)(1,2)(2,4)(7,8)\n",
    "row_index = [1,1,2,7]\n",
    "col_index = [0,2,4,8]\n",
    "arr[row_index,col_index]"
   ]
  },
  {
   "cell_type": "code",
   "execution_count": 11,
   "metadata": {},
   "outputs": [
    {
     "data": {
      "text/plain": [
       "array([[25, 26, 27, 28, 29],\n",
       "       [45, 46, 47, 48, 49],\n",
       "       [65, 66, 67, 68, 69],\n",
       "       [85, 86, 87, 88, 89]])"
      ]
     },
     "execution_count": 11,
     "metadata": {},
     "output_type": "execute_result"
    }
   ],
   "source": [
    "import numpy as np\n",
    "# 索引和切片只是为了查看，并不是为了修改；如果想要修改数据，必须创建一个新的数据，使用copy()，不然数据就会修改到元数据上\n",
    "arr = np.arange(10*10,dtype=int).reshape(10,10)\n",
    "newArr = arr[2:9:2,5:].copy()\n",
    "newArr"
   ]
  },
  {
   "cell_type": "markdown",
   "metadata": {},
   "source": [
    "### Numpy的统计分析"
   ]
  },
  {
   "cell_type": "markdown",
   "metadata": {},
   "source": [
    "####  排序  \n",
    "1. 直接排序sort() \n",
    "2. 间接排序argsort(),lexsort()"
   ]
  },
  {
   "cell_type": "markdown",
   "metadata": {},
   "source": [
    "#####  直接排序"
   ]
  },
  {
   "cell_type": "code",
   "execution_count": 34,
   "metadata": {},
   "outputs": [
    {
     "name": "stdout",
     "output_type": "stream",
     "text": [
      "创建的随机数组： [14  2  7 11 16  4  9 18  3  2]\n",
      "排序之后的数据： [ 2  2  3  4  7  9 11 14 16 18]\n"
     ]
    }
   ],
   "source": [
    "# sort() 对数值排序\n",
    "np.random.seed(60)\n",
    "arr = np.random.randint(1,20,size=10)\n",
    "print(\"创建的随机数组：\",arr)\n",
    "arr.sort()\n",
    "print(\"排序之后的数据：\",arr)"
   ]
  },
  {
   "cell_type": "code",
   "execution_count": 51,
   "metadata": {},
   "outputs": [
    {
     "name": "stdout",
     "output_type": "stream",
     "text": [
      "创建的随机数组：\n",
      " [[ 7  8  6 19  2]\n",
      " [13  8 19 11 10]\n",
      " [ 1 18 10  9 16]\n",
      " [15  9 11  4  4]\n",
      " [ 8 18 14  6 19]]\n",
      "-----\n",
      "[[ 1  8  6  4  2]\n",
      " [ 7  8 10  6  4]\n",
      " [ 8  9 11  9 10]\n",
      " [13 18 14 11 16]\n",
      " [15 18 19 19 19]]\n",
      "-----\n",
      "[[ 1  2  4  6  8]\n",
      " [ 4  6  7  8 10]\n",
      " [ 8  9  9 10 11]\n",
      " [11 13 14 16 18]\n",
      " [15 18 19 19 19]]\n"
     ]
    }
   ],
   "source": [
    "np.random.seed(40)\n",
    "arr = np.random.randint(1,20,size=(5,5))\n",
    "print(\"创建的随机数组：\\n\",arr)\n",
    "arr.sort(axis=0)  # 按列排序\n",
    "print(\"-----\")\n",
    "print(arr)\n",
    "arr.sort(axis = 1) #按行排序\n",
    "print(\"-----\")\n",
    "print(arr)"
   ]
  },
  {
   "cell_type": "markdown",
   "metadata": {},
   "source": [
    "#####  间接排序 argsort()\n",
    "间接排序输出的是排序之后的索引"
   ]
  },
  {
   "cell_type": "code",
   "execution_count": 66,
   "metadata": {},
   "outputs": [
    {
     "name": "stdout",
     "output_type": "stream",
     "text": [
      "元数据：\n",
      " [0 6 3 9 1]\n",
      "直接排序之后数组：\n",
      "  0,1,3,6,9\n",
      "argsort排序之后的数据：\n",
      " [0 4 2 1 3]\n"
     ]
    }
   ],
   "source": [
    "arr = np.array([0,6,3,9,1])  # 0,1,3,6,9\n",
    "arr.argsort()\n",
    "print(\"元数据：\\n\",arr)\n",
    "print(\"直接排序之后数组：\\n  0,1,3,6,9\")\n",
    "print(\"argsort排序之后的数据：\\n\",arr.argsort())"
   ]
  },
  {
   "cell_type": "markdown",
   "metadata": {},
   "source": [
    "##### 间接排序 lexsort()"
   ]
  },
  {
   "cell_type": "code",
   "execution_count": 71,
   "metadata": {},
   "outputs": [
    {
     "name": "stdout",
     "output_type": "stream",
     "text": [
      "总成绩的排序： [1 5 1 4 3 4 4]\n",
      "总成绩排序索引： [0 2 4 3 5 6 1]\n",
      "排序结果是： [2 0 4 6 5 3 1]\n"
     ]
    }
   ],
   "source": [
    "# 小升初考试，重点班录取学生按照总成绩录取。在总成绩相同时\n",
    "# 数学成绩高的优先录取，在总成绩和数学成绩都相同时，按照英语成绩录取……\n",
    "a_totle = np.array([1,5,1,4,3,4,4])  \n",
    "# (0,1)  (1,5)  (2,1)  (3,4)  (4,3)  (5,4)  (6,4)\n",
    "ac = a_totle.copy()\n",
    "print(\"总成绩的排序：\",ac)\n",
    "print(\"总成绩排序索引：\",ac.argsort())\n",
    "b_math = np.array([9,4,0,4,0,2,1])\n",
    "# (0,9) (2,0) (3,4)  (4,0) (5,2) (6,1) (1,4)\n",
    "bc =b_math.copy()\n",
    "print(\"排序结果是：\",np.lexsort((bc,ac)))"
   ]
  },
  {
   "cell_type": "code",
   "execution_count": 72,
   "metadata": {},
   "outputs": [
    {
     "name": "stdout",
     "output_type": "stream",
     "text": [
      "排序结果是： [2 0 4 6 5 3 1]\n"
     ]
    }
   ],
   "source": [
    "# 小升初考试，重点班录取学生按照总成绩录取。在总成绩相同时\n",
    "# 数学成绩高的优先录取，在总成绩和数学成绩都相同时，按照英语成绩录取……\n",
    "a_totle = np.array([1,5,1,4,3,4,4])  \n",
    "b_math = np.array([9,4,0,4,0,2,1])\n",
    "print(\"排序结果是：\",np.lexsort((b_math,a_totle)))"
   ]
  },
  {
   "cell_type": "markdown",
   "metadata": {},
   "source": [
    "### 数据清洗"
   ]
  },
  {
   "cell_type": "markdown",
   "metadata": {},
   "source": [
    "unique函数，查找唯一值并返回已排序结果"
   ]
  },
  {
   "cell_type": "code",
   "execution_count": 73,
   "metadata": {},
   "outputs": [
    {
     "name": "stdout",
     "output_type": "stream",
     "text": [
      "去重取唯一： ['bicycle' 'bus' 'car' 'ship' 'subway' 'train']\n"
     ]
    }
   ],
   "source": [
    "arrs = ['train','bus','car','ship','subway','ship','bicycle']\n",
    "print(\"去重取唯一：\",np.unique(arrs))"
   ]
  },
  {
   "cell_type": "code",
   "execution_count": 74,
   "metadata": {},
   "outputs": [
    {
     "name": "stdout",
     "output_type": "stream",
     "text": [
      "去重取唯一的数组： [   1    2    3    4    5    6    7    8   10 1023]\n"
     ]
    }
   ],
   "source": [
    "arrs = [1,1,1,2,3,4,5,7,8,6,5,6,7,8,6,10,1023]\n",
    "print(\"去重取唯一的数组：\",np.unique(arrs))"
   ]
  },
  {
   "cell_type": "markdown",
   "metadata": {},
   "source": [
    "数据的重复操作\n",
    "1. tile()\n",
    "2. repeat()  "
   ]
  },
  {
   "cell_type": "markdown",
   "metadata": {},
   "source": [
    "tile对数组整体进行重复  \n",
    "repeat对数组元素进行重复"
   ]
  },
  {
   "cell_type": "code",
   "execution_count": 77,
   "metadata": {},
   "outputs": [
    {
     "name": "stdout",
     "output_type": "stream",
     "text": [
      "[0 1 2 3 4]\n",
      "[0 1 2 3 4 0 1 2 3 4 0 1 2 3 4 0 1 2 3 4]\n"
     ]
    }
   ],
   "source": [
    "arr = np.arange(5)\n",
    "print(arr)\n",
    "print(np.tile(arr,4))"
   ]
  },
  {
   "cell_type": "code",
   "execution_count": 89,
   "metadata": {},
   "outputs": [
    {
     "name": "stdout",
     "output_type": "stream",
     "text": [
      "[[1 1 2]\n",
      " [5 7 6]\n",
      " [7 7 6]]\n",
      "------\n",
      "[[1 1 1 1 2 2]\n",
      " [5 5 7 7 6 6]\n",
      " [7 7 7 7 6 6]]\n",
      "-----\n",
      "[[1 1 2]\n",
      " [1 1 2]\n",
      " [5 7 6]\n",
      " [5 7 6]\n",
      " [7 7 6]\n",
      " [7 7 6]]\n"
     ]
    }
   ],
   "source": [
    "np.random.seed(50)\n",
    "arr = np.random.randint(1,10,size=(3,3))\n",
    "print(arr)\n",
    "print(\"------\")\n",
    "print(np.repeat(arr,2,axis=1)) #对横轴重复\n",
    "print(\"-----\")\n",
    "print(np.repeat(arr,2,axis=0))  #对纵轴重复"
   ]
  },
  {
   "cell_type": "markdown",
   "metadata": {},
   "source": [
    "###  统计函数"
   ]
  },
  {
   "cell_type": "markdown",
   "metadata": {},
   "source": [
    "#####  求和"
   ]
  },
  {
   "cell_type": "code",
   "execution_count": 96,
   "metadata": {},
   "outputs": [
    {
     "name": "stdout",
     "output_type": "stream",
     "text": [
      "创建的数组是：\n",
      " [[ 0  1  2  3  4]\n",
      " [ 5  6  7  8  9]\n",
      " [10 11 12 13 14]\n",
      " [15 16 17 18 19]]\n",
      "求和: 190\n",
      "纵轴求和 [30 34 38 42 46]\n",
      "求和 [10 35 60 85]\n"
     ]
    }
   ],
   "source": [
    "arr = np.arange(20).reshape(4,5)\n",
    "print(\"创建的数组是：\\n\",arr)\n",
    "print(\"求和:\",np.sum(arr))\n",
    "print(\"纵轴求和\",np.sum(arr,axis=0))\n",
    "print(\"横轴求和\",np.sum(arr,axis=1))"
   ]
  },
  {
   "cell_type": "markdown",
   "metadata": {},
   "source": [
    "#####  平均值"
   ]
  },
  {
   "cell_type": "code",
   "execution_count": 100,
   "metadata": {},
   "outputs": [
    {
     "name": "stdout",
     "output_type": "stream",
     "text": [
      "求均值: 9.5\n",
      "求纵轴均值: [ 7.5  8.5  9.5 10.5 11.5]\n",
      "求横轴均值： [ 2.  7. 12. 17.]\n"
     ]
    }
   ],
   "source": [
    "# mean\n",
    "print(\"求均值:\",np.mean(arr))\n",
    "print(\"求纵轴均值:\",np.mean(arr,axis=0))\n",
    "print(\"求横轴均值：\",np.mean(arr,axis=1))"
   ]
  },
  {
   "cell_type": "markdown",
   "metadata": {},
   "source": [
    "##### 求最值"
   ]
  },
  {
   "cell_type": "code",
   "execution_count": 101,
   "metadata": {},
   "outputs": [
    {
     "name": "stdout",
     "output_type": "stream",
     "text": [
      "0\n",
      "19\n"
     ]
    }
   ],
   "source": [
    "print(np.min(arr)) #最小值\n",
    "print(np.max(arr)) #最大值"
   ]
  },
  {
   "cell_type": "markdown",
   "metadata": {},
   "source": [
    "### 销售价格表统计分析"
   ]
  },
  {
   "cell_type": "markdown",
   "metadata": {},
   "source": [
    "1. 先输出所有元数据的价格\n",
    "2. 对数据进行直接排序并输出\n",
    "3. 去掉重复数据\n",
    "4. 计算所有价格总和\n",
    "5. 获取最低价格\n",
    "6. 获取最高价格\n",
    "\n",
    "txta = np.array([1,2,3,4,5,6])  \n",
    "np.savetxt('路径',需要保存的内容,格式)  \n",
    "np.savetxt('files/numpy_out.txt',txta,fmt=\"%d\")  \n",
    "txtb = np.loadtxt('files/numpy_out.txt',delimiter=',',dtype=float)  \n",
    "print(txtb)"
   ]
  },
  {
   "cell_type": "code",
   "execution_count": null,
   "metadata": {},
   "outputs": [],
   "source": []
  }
 ],
 "metadata": {
  "kernelspec": {
   "display_name": "Python 3",
   "language": "python",
   "name": "python3"
  },
  "language_info": {
   "codemirror_mode": {
    "name": "ipython",
    "version": 3
   },
   "file_extension": ".py",
   "mimetype": "text/x-python",
   "name": "python",
   "nbconvert_exporter": "python",
   "pygments_lexer": "ipython3",
   "version": "3.9.2"
  }
 },
 "nbformat": 4,
 "nbformat_minor": 4
}
